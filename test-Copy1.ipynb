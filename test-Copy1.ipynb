{
 "cells": [
  {
   "cell_type": "markdown",
   "metadata": {},
   "source": [
    "# Import libraries and initiate spark"
   ]
  },
  {
   "cell_type": "code",
   "execution_count": 1,
   "metadata": {
    "collapsed": false,
    "scrolled": true
   },
   "outputs": [
    {
     "data": {
      "text/html": [
       "<style>.container { width:100% !important; }</style>"
      ],
      "text/plain": [
       "<IPython.core.display.HTML object>"
      ]
     },
     "metadata": {},
     "output_type": "display_data"
    }
   ],
   "source": [
    "from pyspark.mllib.linalg import DenseVector\n",
    "from pyspark.mllib.random import RandomRDDs\n",
    "\n",
    "from pyspark.sql import SparkSession\n",
    "from pyspark.sql import functions as F\n",
    "from pyspark.sql.functions import col,udf,when,regexp_extract\n",
    "from pyspark.sql import Window\n",
    "\n",
    "\n",
    "from pyspark.sql.types import StringType,IntegerType\n",
    "\n",
    "from urllib.parse import urlparse\n",
    "import gc\n",
    "import os\n",
    "import pandas as pd\n",
    "import numpy as np\n",
    "import time\n",
    "\n",
    "from IPython.core.display import display, HTML\n",
    "display(HTML(\"<style>.container { width:100% !important; }</style>\"))\n",
    "\n",
    "\n",
    "conf = SparkConf().setAppName('clickstream')\\\n",
    "    .set('spark.driver.memoryOverhead', '2g') \\\n",
    "    .set('spark.executor.memory', '12g') \\\n",
    "    .set(\"spark.executor.instances\", \"8\") \\\n",
    "    .set('spark.executor.cores', '1') \\\n",
    "    .set(\"spark.sql.caseSensitive\", \"true\")\n",
    "#     .set('spark.driver.memory', '10g') \\\n",
    "#     .set('spark.dynamicAllocation.enabled', 'true') \\\n",
    "\n",
    "spark = SparkSession.builder.appName('clickstream').config(conf=conf).getOrCreate()\n"
   ]
  },
  {
   "cell_type": "markdown",
   "metadata": {},
   "source": [
    "# Load the data"
   ]
  },
  {
   "cell_type": "code",
   "execution_count": 2,
   "metadata": {
    "collapsed": false,
    "scrolled": false
   },
   "outputs": [
    {
     "name": "stdout",
     "output_type": "stream",
     "text": [
      "Number of Columns: 7 - Number of rows: 4917706\n",
      "Command took 152.17 seconds\n"
     ]
    },
    {
     "data": {
      "text/plain": [
       "159"
      ]
     },
     "execution_count": 2,
     "metadata": {},
     "output_type": "execute_result"
    }
   ],
   "source": [
    "t0 = time.time()\n",
    "dg = spark.read.json(r'C:\\Users\\N716307\\Downloads\\TweetCount-master\\2016\\09\\*\\*\\*\\*\\*\\*')\n",
    "dg.registerTempTable(\"dg\")\n",
    "\n",
    "df = sqlContext.sql(\"\"\"\n",
    "    SELECT request.requestHeaders.`User-Agent` as requestHeaders_User_Agent,request.requestHeaders.Referer as requestHeaders_Referer,\n",
    "    request.responseHeaders.`google-accounts-signin` as google_accounts_signin, request.documentReferer as documentReferer,\n",
    "    request.url as url, server_request.request_unixtime as request_unixtime,\n",
    "    request.ip as ip\n",
    "    FROM dg\n",
    "    \"\"\"\n",
    "                   )\n",
    "\n",
    "\n",
    "print(\"Number of Columns: {:d} - Number of rows: {:d}\".format(len(df.columns),df.count()))\n",
    "\n",
    "t1 = time.time()\n",
    "print('Command took {:.2f} seconds'.format(t1-t0))\n",
    "\n",
    "del dg\n",
    "gc.collect()"
   ]
  },
  {
   "cell_type": "markdown",
   "metadata": {},
   "source": [
    "# Feature engineering"
   ]
  },
  {
   "cell_type": "code",
   "execution_count": 5,
   "metadata": {
    "collapsed": false
   },
   "outputs": [],
   "source": [
    "# user agent --> OS\n",
    "df = df.withColumn('requestHeaders_User_Agent', regexp_extract(col('requestHeaders_User_Agent'), r\"\\((\\w+)([^\\)]+)\\)\",1))\n",
    "\n",
    "# extract the google account of the user (if logged in)\n",
    "df = df.withColumn('google_accounts_signin', regexp_extract(col('google_accounts_signin'), r\"(email=\\\")([-a-zA-Z0-9@:%._\\+~#=]{2,256}\\.[a-z]{2,6}\\b([-a-zA-Z0-9@:%_\\+.~#?&//=]*))\",2))\n",
    "\n",
    "# get the hostname of the url columns\n",
    "for c in ['documentReferer','url','requestHeaders_Referer']:\n",
    "    df = df.withColumn(c,regexp_extract(col(c), r\"(www\\.)?([-a-zA-Z0-9@:%._\\+~#=]{2,256}\\.[a-z]{2,6}\\b([-a-zA-Z0-9@:%_\\+.~#?&//=]*?))\",2))\n",
    "    \n",
    "    \n",
    "df = df.select('ip',\n",
    "               'requestHeaders_User_Agent',\n",
    "               'google_accounts_signin',\n",
    "               'request_unixtime',\n",
    "               'documentReferer',\n",
    "               'url')\n",
    "\n",
    "df = df.dropDuplicates()\n",
    "\n",
    "# add a columns for how many times an ip is repeated\n",
    "w = Window.partitionBy('ip')\n",
    "df = df.withColumn('ip_count',F.count(df.ip).over(w))\n",
    "\n",
    "# transform unix time format to timestamp format\n",
    "df = df.withColumn(\"request_unixtime\",F.to_timestamp(df[\"request_unixtime\"]))\n",
    "\n",
    "\n",
    "# raw date to year, month, date, hour, etc\n",
    "df = df.withColumn('request_dayofWeek',F.dayofweek(df.request_unixtime))\n",
    "df = df.withColumn('request_dayofYear',F.dayofyear(df.request_unixtime))\n",
    "df = df.withColumn('request_day',F.dayofmonth(df.request_unixtime))\n",
    "df = df.withColumn('request_year',F.year(df.request_unixtime))\n",
    "df = df.withColumn('request_month',F.month(df.request_unixtime))\n",
    "df = df.withColumn('request_hour',F.hour(df.request_unixtime))\n",
    "\n",
    "\n",
    "\n",
    "\n",
    "\n",
    "# rel part of the Link: Used to express a typed relationship with another resource\n",
    "# df = df.withColumn('Link', regexp_extract(col('Link'), '(.)(rel=)(\\w+)',3))\n",
    "\n",
    "# response header content type\n",
    "# df = df.withColumn('responseHeader_content_type', regexp_extract(col('responseHeader_content_type'), r\"(.*?);\",1))\n",
    "\n"
   ]
  },
  {
   "cell_type": "code",
   "execution_count": 37,
   "metadata": {
    "collapsed": true
   },
   "outputs": [],
   "source": [
    "w = Window.partitionBy('url','documentReferer')\n",
    "df = df.withColumn('url_count',F.count(df.ip).over(w))"
   ]
  },
  {
   "cell_type": "code",
   "execution_count": 8,
   "metadata": {
    "collapsed": false
   },
   "outputs": [],
   "source": [
    "dcount = df.groupBy(['url','documentReferer']).count().orderBy(col('count'),ascending=False)"
   ]
  },
  {
   "cell_type": "code",
   "execution_count": null,
   "metadata": {
    "collapsed": false
   },
   "outputs": [],
   "source": [
    "dcount.filter(dcount.documentReferer.like('amazon')).show(200)"
   ]
  },
  {
   "cell_type": "code",
   "execution_count": 9,
   "metadata": {
    "collapsed": false,
    "scrolled": true
   },
   "outputs": [
    {
     "name": "stdout",
     "output_type": "stream",
     "text": [
      "+--------------------+--------------------+-----+\n",
      "|                 url|     documentReferer|count|\n",
      "+--------------------+--------------------+-----+\n",
      "|          google.com|                null|90750|\n",
      "|        facebook.com|                null|61075|\n",
      "|     plus.google.com|                null|41948|\n",
      "|        facebook.com|        facebook.com|41458|\n",
      "|          google.com|          google.com|29170|\n",
      "|googleads.g.doubl...|                null|25891|\n",
      "|staticxx.facebook...|                null|24769|\n",
      "| accounts.google.com|                null|24587|\n",
      "|     plus.google.com|          google.com|24533|\n",
      "|         youtube.com|                null|21746|\n",
      "|          amazon.com|          amazon.com|16405|\n",
      "|         youtube.com|         youtube.com|15987|\n",
      "|     redditmedia.com|          reddit.com|15558|\n",
      "|staticxx.facebook...|          google.com|14139|\n",
      "|cm.g.doubleclick.net|                null|12892|\n",
      "|tpc.googlesyndica...|                null|12224|\n",
      "|     mail.google.com|                null|11757|\n",
      "|          reddit.com|          reddit.com|11356|\n",
      "|        facebook.com|          google.com|10500|\n",
      "|googleads.g.doubl...|          google.com| 9918|\n",
      "|     apis.google.com|                null| 9871|\n",
      "|images-na.ssl-ima...|          amazon.com| 9665|\n",
      "| hangouts.google.com|                null| 9245|\n",
      "| accounts.google.com|          google.com| 8836|\n",
      "|         youtube.com|          google.com| 7712|\n",
      "|staticxx.facebook...|        facebook.com| 7451|\n",
      "|googleads.g.doubl...|         youtube.com| 7445|\n",
      "|d14qd3he45186l.cl...|          amazon.com| 7420|\n",
      "|adsensecustomsear...|          amazon.com| 7345|\n",
      "|     plus.google.com|         youtube.com| 7338|\n",
      "|         s0.2mdn.net|                null| 7207|\n",
      "|            ebay.com|            ebay.com| 7016|\n",
      "|          s.yimg.com|                null| 6988|\n",
      "|  ad.doubleclick.net|                null| 6388|\n",
      "| accounts.google.com|         youtube.com| 6100|\n",
      "|tpc.googlesyndica...|          google.com| 5522|\n",
      "|cm.g.doubleclick.net|          google.com| 5489|\n",
      "|s.amazon-adsystem...|          amazon.com| 5379|\n",
      "|platform.twitter.com|                null| 4979|\n",
      "|          reddit.com|                null| 4938|\n",
      "|     apis.google.com|          google.com| 4708|\n",
      "|     redditmedia.com|                null| 4563|\n",
      "|                    |                    | 4467|\n",
      "| accounts.google.com| accounts.google.com| 4429|\n",
      "|   stags.bluekai.com|            ebay.com| 4284|\n",
      "|widget.quantcast.com|    drudgereport.com| 4080|\n",
      "|     docs.google.com|                null| 4062|\n",
      "|                    |                null| 4026|\n",
      "|cdn3.doubleverify...|                null| 3912|\n",
      "|tpc.googlesyndica...|            ebay.com| 3611|\n",
      "|         twitter.com|                null| 3521|\n",
      "|        facebook.com|   apps.facebook.com| 3466|\n",
      "|platform.twitter.com|          google.com| 3287|\n",
      "|pubads.g.doublecl...|                null| 3274|\n",
      "|          tumblr.com|          tumblr.com| 3218|\n",
      "|vi.vipr.ebaydesc.com|            ebay.com| 2931|\n",
      "|     mail.google.com|          google.com| 2904|\n",
      "|    ads.pubmatic.com|            ebay.com| 2852|\n",
      "|    ads.pubmatic.com|                null| 2764|\n",
      "|          s.yimg.com|           yahoo.com| 2688|\n",
      "|        linkedin.com|        linkedin.com| 2660|\n",
      "|          amazon.com|                null| 2623|\n",
      "|         s0.2mdn.net|          google.com| 2553|\n",
      "|cm.g.doubleclick.net|         youtube.com| 2471|\n",
      "|         twitter.com|         twitter.com| 2446|\n",
      "|    en.wikipedia.org|          google.com| 2418|\n",
      "|     news.google.com|     news.google.com| 2408|\n",
      "|    drudgereport.com|    drudgereport.com| 2373|\n",
      "|googleads.g.doubl...|        facebook.com| 2358|\n",
      "|     apis.google.com|         youtube.com| 2335|\n",
      "|      out.reddit.com|          reddit.com| 2334|\n",
      "|        c.betrad.com|                null| 2317|\n",
      "|  ad.doubleclick.net|          google.com| 2308|\n",
      "|      s7.addthis.com|                null| 2302|\n",
      "|           gmail.com|                null| 2276|\n",
      "|      s7.addthis.com|          google.com| 2248|\n",
      "|     plus.google.com|     news.google.com| 2226|\n",
      "|          google.com|            ebay.com| 2211|\n",
      "|        cdn.krxd.net|                null| 2196|\n",
      "|        facebook.com|        mangahere.co| 2183|\n",
      "|            bing.com|            bing.com| 2124|\n",
      "|          tumblr.com|                null| 2092|\n",
      "|secure.flashtalki...|                null| 2060|\n",
      "|aktrack.pubmatic.com|            ebay.com| 2025|\n",
      "|    tags.bluekai.com|                null| 2012|\n",
      "|           yahoo.com|                null| 2010|\n",
      "|staticxx.facebook...|        mangahere.co| 2001|\n",
      "| hangouts.google.com|          google.com| 1976|\n",
      "|     rya.rockyou.com|        facebook.com| 1940|\n",
      "|   radar.cedexis.com|        linkedin.com| 1862|\n",
      "|         youtube.com|     news.google.com| 1861|\n",
      "|tpc.googlesyndica...|         youtube.com| 1861|\n",
      "|        facebook.com|       mangatown.com| 1851|\n",
      "|staticxx.facebook...|       mangatown.com| 1844|\n",
      "|  ad.doubleclick.net|            ebay.com| 1807|\n",
      "|        lastpass.com|        lastpass.com| 1806|\n",
      "|  ad.doubleclick.net|          amazon.com| 1784|\n",
      "|0.client-channel....|                null| 1776|\n",
      "|   apps.facebook.com|        facebook.com| 1757|\n",
      "|     plus.google.com| accounts.google.com| 1754|\n",
      "|   assets.tumblr.com|                null| 1754|\n",
      "|            espn.com|            espn.com| 1748|\n",
      "|     safe.txmblr.com|          tumblr.com| 1745|\n",
      "|tpc.googlesyndica...|        facebook.com| 1709|\n",
      "|          roblox.com|          roblox.com| 1686|\n",
      "|    ebay-u.openx.net|            ebay.com| 1654|\n",
      "|googleads.g.doubl...|          reddit.com| 1653|\n",
      "|     trc.taboola.com|                null| 1649|\n",
      "|      acdn.adnxs.com|                null| 1645|\n",
      "| dtm.advertising.com|        facebook.com| 1643|\n",
      "|cdn3.doubleverify...|          google.com| 1638|\n",
      "|        facebook.com|          reddit.com| 1636|\n",
      "|     mail.google.com| accounts.google.com| 1636|\n",
      "|cookiex.ngd.yahoo...|          tumblr.com| 1608|\n",
      "|            bing.com|                null| 1601|\n",
      "|accounts.youtube.com| accounts.google.com| 1579|\n",
      "|         youtube.com|        facebook.com| 1539|\n",
      "|googleadservices.com|          google.com| 1538|\n",
      "|    tags.bluekai.com|          google.com| 1535|\n",
      "|     docs.google.com|     docs.google.com| 1528|\n",
      "|    en.wikipedia.org|    en.wikipedia.org| 1508|\n",
      "|    drive.google.com|    drive.google.com| 1489|\n",
      "|         youtube.com|          reddit.com| 1458|\n",
      "|content.googleapi...|                null| 1446|\n",
      "|images-na.ssl-ima...|                null| 1420|\n",
      "|      chaturbate.com|      chaturbate.com| 1416|\n",
      "|      login.live.com|      login.live.com| 1415|\n",
      "| hangouts.google.com| accounts.google.com| 1403|\n",
      "|         s0.2mdn.net|            ebay.com| 1397|\n",
      "|         netflix.com|                null| 1392|\n",
      "|         pornhub.com|         pornhub.com| 1362|\n",
      "|staticxx.facebook...|        tvtropes.org| 1350|\n",
      "|             pof.com|             pof.com| 1344|\n",
      "|    outlook.live.com|      login.live.com| 1332|\n",
      "|          disqus.com|          google.com| 1327|\n",
      "|  ad.doubleclick.net|         youtube.com| 1323|\n",
      "|          s.yimg.com|     login.yahoo.com| 1316|\n",
      "| dtm.advertising.com|                null| 1303|\n",
      "|cm.g.doubleclick.net|        facebook.com| 1299|\n",
      "|   0.docs.google.com|                null| 1298|\n",
      "|      us-u.openx.net|                null| 1283|\n",
      "|        cdn.krxd.net|          google.com| 1282|\n",
      "|         xvideos.com|         xvideos.com| 1266|\n",
      "|     trc.taboola.com|          google.com| 1257|\n",
      "|pubads.g.doublecl...|          amazon.com| 1252|\n",
      "|cdn.registerdisne...|            espn.com| 1245|\n",
      "|    static.licdn.com|        linkedin.com| 1236|\n",
      "|      login.live.com|                null| 1235|\n",
      "|   pixel.mathtag.com|                null| 1226|\n",
      "|aktrack.pubmatic.com|                null| 1213|\n",
      "|staticxx.facebook...|      narutobase.net| 1209|\n",
      "|        xhamster.com|        xhamster.com| 1189|\n",
      "|    drive.google.com|                null| 1186|\n",
      "|    tags.bluekai.com|            espn.com| 1176|\n",
      "|   bcp.crwdcntrl.net|                null| 1169|\n",
      "|        facebook.com|            imdb.com| 1161|\n",
      "|secure-us.imrworl...|                null| 1128|\n",
      "|      login.live.com|            bing.com| 1122|\n",
      "|  ad.doubleclick.net|        linkedin.com| 1122|\n",
      "|tap2-cdn.rubiconp...|            ebay.com| 1103|\n",
      "|        mangahere.co|        mangahere.co| 1101|\n",
      "|    smile.amazon.com|    smile.amazon.com| 1096|\n",
      "|          paypal.com|          paypal.com| 1080|\n",
      "|   dis.us.criteo.com|                null| 1072|\n",
      "|gateway.answerscl...|                null| 1072|\n",
      "|    ads.pubmatic.com|          google.com| 1061|\n",
      "| accounts.google.com|     mail.google.com| 1059|\n",
      "|googleads.g.doubl...|           yahoo.com| 1054|\n",
      "|       instagram.com|                null| 1053|\n",
      "|widgets.outbrain.com|                null| 1049|\n",
      "|         s1.2mdn.net|                null| 1048|\n",
      "|   stags.bluekai.com|                null| 1043|\n",
      "|   bcp.crwdcntrl.net|          google.com| 1040|\n",
      "|       api.twitch.tv|                null| 1036|\n",
      "|            imdb.com|            imdb.com| 1026|\n",
      "|cm.g.doubleclick.net|            ebay.com| 1021|\n",
      "|          google.com|        facebook.com| 1019|\n",
      "|tap2-cdn.rubiconp...|                null| 1018|\n",
      "| accounts.google.com|    drive.google.com| 1015|\n",
      "|platform.twitter.com|        facebook.com| 1003|\n",
      "|s.amazon-adsystem...|                null|  987|\n",
      "|     mail.google.com|     mail.google.com|  979|\n",
      "|googleads.g.doubl...|    drudgereport.com|  979|\n",
      "|staticxx.facebook...|   apps.facebook.com|  973|\n",
      "|           imgur.com|          reddit.com|  970|\n",
      "|  edge.sharethis.com|        mangahere.co|  954|\n",
      "|         s0.2mdn.net|          amazon.com|  949|\n",
      "|         s0.2mdn.net|        facebook.com|  949|\n",
      "|secure.bankofamer...|secure.bankofamer...|  945|\n",
      "|         youtube.com|     socialblade.com|  943|\n",
      "|            ebay.com|                null|  940|\n",
      "|zynga2-a.akamaihd...|        facebook.com|  939|\n",
      "|cookiex.ngd.yahoo...|                null|  935|\n",
      "|    ol.at.atwola.com|      login.live.com|  935|\n",
      "|      us-u.openx.net|          google.com|  934|\n",
      "|staticxx.facebook...|      chinatimes.com|  927|\n",
      "|         i.imgur.com|          reddit.com|  923|\n",
      "|   apps.facebook.com|   apps.facebook.com|  922|\n",
      "|cdn3.doubleverify...|            ebay.com|  920|\n",
      "|       mangatown.com|       mangatown.com|  919|\n",
      "+--------------------+--------------------+-----+\n",
      "only showing top 200 rows\n",
      "\n"
     ]
    }
   ],
   "source": [
    "dcount.show(200)"
   ]
  },
  {
   "cell_type": "code",
   "execution_count": 10,
   "metadata": {
    "collapsed": false,
    "scrolled": true
   },
   "outputs": [
    {
     "name": "stdout",
     "output_type": "stream",
     "text": [
      "column #             column name          null count           null percent         distinct count      \n"
     ]
    },
    {
     "ename": "NameError",
     "evalue": "name 'X' is not defined",
     "output_type": "error",
     "traceback": [
      "\u001b[0;31m---------------------------------------------------------------------------\u001b[0m",
      "\u001b[0;31mNameError\u001b[0m                                 Traceback (most recent call last)",
      "\u001b[0;32m<ipython-input-10-ed3bd82b98d5>\u001b[0m in \u001b[0;36m<module>\u001b[0;34m()\u001b[0m\n\u001b[1;32m     15\u001b[0m     \u001b[1;32mif\u001b[0m \u001b[0mnull_count\u001b[0m\u001b[1;33m*\u001b[0m\u001b[1;36m1.\u001b[0m\u001b[1;33m/\u001b[0m\u001b[0mc\u001b[0m \u001b[1;33m>\u001b[0m \u001b[1;36m0.2\u001b[0m\u001b[1;33m:\u001b[0m\u001b[1;33m\u001b[0m\u001b[0m\n\u001b[1;32m     16\u001b[0m         \u001b[0mnull_drop\u001b[0m\u001b[1;33m.\u001b[0m\u001b[0mappend\u001b[0m\u001b[1;33m(\u001b[0m\u001b[0mx\u001b[0m\u001b[1;33m)\u001b[0m\u001b[1;33m\u001b[0m\u001b[0m\n\u001b[0;32m---> 17\u001b[0;31m     \u001b[0mprint\u001b[0m\u001b[1;33m(\u001b[0m\u001b[1;34m'{:20d} {:40s} {:8d} {:6.2f}%, {:8d}'\u001b[0m\u001b[1;33m.\u001b[0m\u001b[0mformat\u001b[0m\u001b[1;33m(\u001b[0m\u001b[0mcol_number\u001b[0m\u001b[1;33m,\u001b[0m\u001b[0mX\u001b[0m\u001b[1;33m,\u001b[0m\u001b[0mnull_count\u001b[0m\u001b[1;33m,\u001b[0m\u001b[0mnull_count\u001b[0m\u001b[1;33m*\u001b[0m\u001b[1;36m100.\u001b[0m\u001b[1;33m/\u001b[0m\u001b[0mc\u001b[0m\u001b[1;33m,\u001b[0m\u001b[0mdistinct_count\u001b[0m\u001b[1;33m)\u001b[0m\u001b[1;33m)\u001b[0m\u001b[1;33m\u001b[0m\u001b[0m\n\u001b[0m",
      "\u001b[0;31mNameError\u001b[0m: name 'X' is not defined"
     ]
    }
   ],
   "source": [
    "print('{:20s} {:20s} {:20s} {:20s} {:20s}'.format('column #',\"column name\",\"null count\", \"null percent\",\"distinct count\"))\n",
    "c = df.count()\n",
    "null_drop = []\n",
    "distinct_high = []\n",
    "col_number = 0\n",
    "for x,y in df.dtypes:\n",
    "    col_number += 1\n",
    "    null_count = df.filter((col(x).isNull()) | (col(x) == '')).count()\n",
    "    if y == 'string':\n",
    "        distinct_count = df.select(x).distinct().count()\n",
    "        if distinct_count > 100:\n",
    "            distinct_high.append(x)\n",
    "    else:\n",
    "        distinct_count = 0\n",
    "    if null_count*1./c > 0.2:\n",
    "        null_drop.append(x)\n",
    "    print('{:20d} {:40s} {:8d} {:6.2f}%, {:8d}'.format(col_number,x,null_count,null_count*100./c,distinct_count))"
   ]
  },
  {
   "cell_type": "code",
   "execution_count": 13,
   "metadata": {
    "collapsed": false,
    "scrolled": true
   },
   "outputs": [
    {
     "data": {
      "text/plain": [
       "2688895"
      ]
     },
     "execution_count": 13,
     "metadata": {},
     "output_type": "execute_result"
    }
   ],
   "source": [
    "dh = df.dropDuplicates()\n",
    "dh.count()"
   ]
  },
  {
   "cell_type": "code",
   "execution_count": null,
   "metadata": {
    "collapsed": true
   },
   "outputs": [],
   "source": []
  },
  {
   "cell_type": "code",
   "execution_count": null,
   "metadata": {
    "collapsed": false
   },
   "outputs": [],
   "source": [
    "dcount = dh.groupby('url','documentReferer').agg(F.count(dh.ip).alias('count_ref')).orderBy(col('count_ref'))\n",
    "dcount.show()"
   ]
  },
  {
   "cell_type": "code",
   "execution_count": 267,
   "metadata": {
    "collapsed": true
   },
   "outputs": [],
   "source": [
    "keep_cols = []\n",
    "for x in dg.columns:\n",
    "    x = '`' + x + '`'\n",
    "    if x not in null_drop:\n",
    "        keep_cols.append(x)\n",
    "        \n",
    "dg = dg.select(keep_cols)"
   ]
  },
  {
   "cell_type": "markdown",
   "metadata": {},
   "source": [
    "# Auxiliary functions"
   ]
  },
  {
   "cell_type": "code",
   "execution_count": 4,
   "metadata": {
    "collapsed": false
   },
   "outputs": [],
   "source": [
    "def ip_to_zip(ip):\n",
    "    import geoip2.database\n",
    "    reader = geoip2.database.Reader(r'C:\\Users\\N716307\\Downloads\\GeoLite2-City_20190528\\GeoLite2-City.mmdb')\n",
    "    try:\n",
    "        ip_location = reader.city(ip)\n",
    "        return int(ip_location.postal.code)\n",
    "    except:\n",
    "        return None"
   ]
  },
  {
   "cell_type": "code",
   "execution_count": 18,
   "metadata": {
    "collapsed": true
   },
   "outputs": [],
   "source": [
    "def ip_to_zip(ip):\n",
    "    '''\n",
    "    Function to transform ip address to zip code.\n",
    "    This functions will be used to create a spark udf.\n",
    "    '''\n",
    "    from geolite2 import geolite2\n",
    "    if ip == None: return None\n",
    "    reader = geolite2.reader()\n",
    "    ip_location = reader.get(ip)\n",
    "    if ip_location and 'postal' in ip_location.keys():\n",
    "        try:\n",
    "            return int(ip_location['postal']['code'])\n",
    "        except:\n",
    "            return None\n",
    "    else:\n",
    "        return None"
   ]
  },
  {
   "cell_type": "code",
   "execution_count": 5,
   "metadata": {
    "collapsed": false
   },
   "outputs": [],
   "source": [
    "# transform ip to zipcode\n",
    "ip_to_zip_udf = udf(ip_to_zip,IntegerType())\n",
    "# df = df.withColumn('zipcode',when(df.ip.isNotNull(),ip_to_zip_udf(df.ip)).otherwise(df.ip))\n",
    "df = df.withColumn('zipcode',ip_to_zip_udf(df.ip))"
   ]
  },
  {
   "cell_type": "code",
   "execution_count": 10,
   "metadata": {
    "collapsed": true
   },
   "outputs": [],
   "source": [
    "dg = spark.read.json(r'C:\\Users\\N716307\\Downloads\\TweetCount-master\\2016\\09\\*\\*\\*\\*\\*\\*')\n",
    "dg.registerTempTable(\"dg\")"
   ]
  }
 ],
 "metadata": {
  "kernelspec": {
   "display_name": "Python 3",
   "language": "python",
   "name": "python3"
  },
  "language_info": {
   "codemirror_mode": {
    "name": "ipython",
    "version": 3
   },
   "file_extension": ".py",
   "mimetype": "text/x-python",
   "name": "python",
   "nbconvert_exporter": "python",
   "pygments_lexer": "ipython3",
   "version": "3.6.0"
  },
  "toc": {
   "base_numbering": 1,
   "nav_menu": {},
   "number_sections": true,
   "sideBar": true,
   "skip_h1_title": false,
   "title_cell": "Table of Contents",
   "title_sidebar": "Contents",
   "toc_cell": false,
   "toc_position": {},
   "toc_section_display": true,
   "toc_window_display": false
  }
 },
 "nbformat": 4,
 "nbformat_minor": 2
}
