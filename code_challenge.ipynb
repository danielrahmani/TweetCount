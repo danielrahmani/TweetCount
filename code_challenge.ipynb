{
 "cells": [
  {
   "cell_type": "markdown",
   "metadata": {},
   "source": [
    "# Import modules "
   ]
  },
  {
   "cell_type": "code",
   "execution_count": 1,
   "metadata": {},
   "outputs": [],
   "source": [
    "from pyspark.sql import Window\n",
    "from pyspark.sql.functions import col,lit,row_number,when,udf,isnan\n",
    "from pyspark.sql.functions import month,year,to_timestamp\n",
    "from pyspark.sql.functions import mean,sum,log,min,max,floor,desc,count,stddev_samp,countDistinct\n",
    "from pyspark.sql.functions import to_date,unix_timestamp,datediff,months_between\n",
    "from pyspark.sql.functions import dayofmonth,dayofweek,dayofyear,hour,minute,second,lag\n",
    "from pyspark.sql.functions import regexp_replace,split\n",
    "\n",
    "#from pyspark.ml.param.shared import HasInputCol, HasOutputCol, Param\n",
    "\n",
    "from pyspark.ml import Pipeline,Transformer\n",
    "from pyspark.ml.feature import OneHotEncoder, StringIndexer, VectorAssembler\n",
    "\n",
    "from pyspark.ml.classification import GBTClassifier\n",
    "from pyspark.ml.clustering import KMeans\n",
    "from pyspark.ml.evaluation import MulticlassClassificationEvaluator,BinaryClassificationEvaluator\n",
    "\n",
    "\n",
    "from pyspark.sql.types import StringType,ArrayType,DoubleType,LongType,IntegerType,StructField,StructType\n",
    "from pyspark.sql import SQLContext,SparkSession,DataFrame\n",
    "\n",
    "from sklearn.model_selection import train_test_split,cross_validate\n",
    "from sklearn.metrics import make_scorer,accuracy_score,roc_auc_score,confusion_matrix\n",
    "from sklearn.metrics import roc_curve, auc\n",
    "\n",
    "import sys\n",
    "from hyperopt import fmin, tpe, hp\n",
    "import xgboost as xgb\n",
    "import numpy as np\n",
    "import pandas as pd\n",
    "import matplotlib.pyplot as plt\n",
    "import seaborn as sns\n",
    "import datetime\n",
    "import os\n",
    "import math\n",
    "import git\n",
    "\n",
    "%matplotlib inline\n",
    "\n",
    "\n",
    "plt.rcParams['font.size']= 12\n",
    "plt.rcParams[\"font.family\"] = \"Times New Roman\"\n",
    "\n",
    "# find the working path\n",
    "working_path = os.getcwd()"
   ]
  },
  {
   "cell_type": "markdown",
   "metadata": {},
   "source": [
    "# Define auxiliary functions"
   ]
  },
  {
   "cell_type": "code",
   "execution_count": 2,
   "metadata": {},
   "outputs": [],
   "source": [
    "def col_replace(df,col_name,to_replace,value,data_type,*args):\n",
    "    \"\"\"\n",
    "    Function to replace to replace a part of a string in a columns with another value \n",
    "    and also change the data type of the column. By default overwrite the existing column\n",
    "    unless a new column name is provided.\n",
    "    \"\"\"\n",
    "    if args:\n",
    "        new_col_name = args[0]\n",
    "    else:\n",
    "        new_col_name = col_name\n",
    "    df = df.withColumn(new_col_name,regexp_replace(df[col_name],to_replace,value).astype(data_type))\n",
    "    return df\n",
    "\n",
    "def ageInDays(df,end,start='transactionDateTime'):\n",
    "    \"\"\"\n",
    "    Function to calculate the number of days between a given column and transactionDateTime and\n",
    "    save it as a new column in the dataframe. This will tell us e.g the tenure age of the account\n",
    "    at the time of transaction. \n",
    "    \"\"\"\n",
    "    return df.withColumn(end + '_age',datediff(col(start),col(end)))\n",
    "\n",
    "\n"
   ]
  },
  {
   "cell_type": "markdown",
   "metadata": {},
   "source": [
    "# Initiate spark"
   ]
  },
  {
   "cell_type": "code",
   "execution_count": 3,
   "metadata": {},
   "outputs": [],
   "source": [
    "spark = SparkSession.builder.appName(\"fraud_model\").getOrCreate()"
   ]
  },
  {
   "cell_type": "raw",
   "metadata": {},
   "source": [
    "# importing xgboost for pyspark (I am using the xgboost python API, but left this here \n",
    "# just in case we wanted to try this)\n",
    "from sparkxgb import XGBoostEstimator "
   ]
  },
  {
   "cell_type": "markdown",
   "metadata": {},
   "source": [
    "# Automatically download and load the data"
   ]
  },
  {
   "cell_type": "raw",
   "metadata": {},
   "source": [
    "# run this once to download the data\n",
    "# Download from git\n",
    "git.Git(working_path + '/').clone('https://github.com/CapitalOneRecruiting/DS')\n",
    "# unzip the file\n",
    "os.system('unzip ' + working_path + '/DS/transactions.zip') # will unzip in the working path"
   ]
  },
  {
   "cell_type": "code",
   "execution_count": 4,
   "metadata": {},
   "outputs": [],
   "source": [
    "# read the data\n",
    "df = spark.read.json(working_path + '/transactions.txt')"
   ]
  },
  {
   "cell_type": "markdown",
   "metadata": {},
   "source": [
    "# Changing the schema (data types)\n",
    "Note that for transactionDateTime, there are 61 rows that contain times which can not exists. \n",
    "That is due to Daylight Saving. e.g. on November 6, 2016 it is impossible to have 2:15 AM EST because\n",
    "daylight saving happens at 2 am. This can be caused by error in data collection or may be the reported \n",
    "time is in another timezone. By setting the data type of that column to timestamp, pyspark autmatically shift the time by one hour, otherwise we would have nulls for these incidents. "
   ]
  },
  {
   "cell_type": "code",
   "execution_count": 5,
   "metadata": {},
   "outputs": [],
   "source": [
    "# data type for all collumns is string. We have to change that for numerical and date columns.\n",
    "corrected_schema = {'accountNumber':LongType(),\n",
    "                   'cardCVV':IntegerType(),\n",
    "                    'cardLast4Digits':IntegerType(),\n",
    "                    'customerId':LongType(),\n",
    "                    'enteredCVV':IntegerType(),\n",
    "                    'recurringAuthInd':IntegerType(),\n",
    "                    'posOnPremises':IntegerType(),\n",
    "                    'merchantZip':IntegerType(),\n",
    "                    'merchantState':IntegerType(),\n",
    "                    'merchantCity':IntegerType(),\n",
    "                    'transactionDateTime':'timestamp'\n",
    "                   }\n",
    "\n",
    "# date columns\n",
    "date_format = {'accountOpenDate':'yyyy-MM-dd',\n",
    "               'dateOfLastAddressChange':'yyyy-MM-dd',\n",
    "               'currentExpDate':'MM/yyyy'\n",
    "#                'transactionDateTime':\"yyyy-MM-dd'T'H:mm:ss\"\n",
    "              }\n",
    "\n",
    "\n",
    "# apply the correct data type\n",
    "for c in date_format.keys():\n",
    "    df = df.withColumn(c,to_timestamp(df[c],format=date_format[c]))\n",
    "\n",
    "for c in corrected_schema.keys():\n",
    "    df = df.withColumn(c,col(c).cast(corrected_schema[c]))\n",
    "    \n",
    "\n",
    "# Creating a list of date columns\n",
    "date_colummns = []\n",
    "for x,y in df.dtypes:\n",
    "    if y == 'timestamp':\n",
    "       date_colummns.append(x) \n"
   ]
  },
  {
   "cell_type": "markdown",
   "metadata": {},
   "source": [
    "# Statistics"
   ]
  },
  {
   "cell_type": "code",
   "execution_count": 6,
   "metadata": {
    "scrolled": true
   },
   "outputs": [
    {
     "name": "stdout",
     "output_type": "stream",
     "text": [
      "Number of records = 641914\n",
      "Number of columns = 29\n",
      "Number of fradulent transactions = 11302 (1.76% of total transactions)\n",
      "Number of fradulent transactions with merchantCategoryCode of online_retail = 3647 (32.27% of total fraud) \n"
     ]
    }
   ],
   "source": [
    "print('Number of records = {:d}'.format(df.count()))\n",
    "print('Number of columns = {:d}'.format(len(df.columns)))\n",
    "print('Number of fradulent transactions = {:d} ({:4.2f}% of total transactions)'\n",
    "      .format(df.filter(df.isFraud==1).count(),\n",
    "             df.filter(df.isFraud==1).count()*100/df.count()\n",
    "             )\n",
    "     )\n",
    "print('Number of fradulent transactions with merchantCategoryCode of online_retail = {:d} ({:4.2f}% of total fraud) '\n",
    "      .format(df.filter((df.isFraud==1) &\n",
    "                        (df.merchantCategoryCode=='online_retail')\n",
    "                       ).count(),\n",
    "              df.filter((df.isFraud==1) &\n",
    "                        (df.merchantCategoryCode=='online_retail')\n",
    "                       ).count()*100/df.filter(df.isFraud==1).count()\n",
    "             )\n",
    "     )\n"
   ]
  },
  {
   "cell_type": "code",
   "execution_count": 7,
   "metadata": {
    "scrolled": true
   },
   "outputs": [
    {
     "name": "stdout",
     "output_type": "stream",
     "text": [
      "Number of customerId with more than one accountNumber: 0\n"
     ]
    }
   ],
   "source": [
    "# to check if a customerId can have more than two accountNumber \n",
    "dc = df.groupBy('customerId').agg(countDistinct('accountNumber').alias('c'))\n",
    "print('Number of customerId with more than one accountNumber: {:d}'.format(dc.filter(dc.c>1).count()))"
   ]
  },
  {
   "cell_type": "code",
   "execution_count": 8,
   "metadata": {
    "scrolled": true
   },
   "outputs": [
    {
     "name": "stdout",
     "output_type": "stream",
     "text": [
      "accountNumber 5000\n",
      "accountOpenDate 1826\n",
      "acqCountry 5\n",
      "availableMoney 450690\n",
      "cardCVV 899\n",
      "cardLast4Digits 5134\n",
      "cardPresent 2\n",
      "creditLimit 10\n",
      "currentBalance 406990\n",
      "currentExpDate 165\n",
      "customerId 5000\n",
      "dateOfLastAddressChange 2186\n",
      "echoBuffer 1\n",
      "enteredCVV 980\n",
      "expirationDateKeyInMatch 2\n",
      "isFraud 2\n",
      "merchantCategoryCode 19\n",
      "merchantCity 1\n",
      "merchantCountryCode 5\n",
      "merchantName 2493\n",
      "merchantState 1\n",
      "merchantZip 1\n",
      "posConditionCode 4\n",
      "posEntryMode 6\n",
      "posOnPremises 1\n",
      "recurringAuthInd 1\n",
      "transactionAmount 62735\n",
      "transactionDateTime 635472\n",
      "transactionType 4\n"
     ]
    }
   ],
   "source": [
    "# count the number of distinct values for each columns\n",
    "for c in df.columns:\n",
    "    print(c,df.select(c).distinct().count())"
   ]
  },
  {
   "cell_type": "code",
   "execution_count": 9,
   "metadata": {
    "scrolled": false
   },
   "outputs": [
    {
     "data": {
      "text/html": [
       "<div>\n",
       "<style scoped>\n",
       "    .dataframe tbody tr th:only-of-type {\n",
       "        vertical-align: middle;\n",
       "    }\n",
       "\n",
       "    .dataframe tbody tr th {\n",
       "        vertical-align: top;\n",
       "    }\n",
       "\n",
       "    .dataframe thead th {\n",
       "        text-align: right;\n",
       "    }\n",
       "</style>\n",
       "<table border=\"1\" class=\"dataframe\">\n",
       "  <thead>\n",
       "    <tr style=\"text-align: right;\">\n",
       "      <th></th>\n",
       "      <th>0</th>\n",
       "    </tr>\n",
       "  </thead>\n",
       "  <tbody>\n",
       "    <tr>\n",
       "      <th>max(accountNumber)</th>\n",
       "      <td>999985343</td>\n",
       "    </tr>\n",
       "    <tr>\n",
       "      <th>max(accountOpenDate)</th>\n",
       "      <td>2015-12-31 00:00:00</td>\n",
       "    </tr>\n",
       "    <tr>\n",
       "      <th>max(acqCountry)</th>\n",
       "      <td>US</td>\n",
       "    </tr>\n",
       "    <tr>\n",
       "      <th>max(availableMoney)</th>\n",
       "      <td>50000</td>\n",
       "    </tr>\n",
       "    <tr>\n",
       "      <th>max(cardCVV)</th>\n",
       "      <td>998</td>\n",
       "    </tr>\n",
       "    <tr>\n",
       "      <th>max(cardLast4Digits)</th>\n",
       "      <td>9998</td>\n",
       "    </tr>\n",
       "    <tr>\n",
       "      <th>max(cardPresent)</th>\n",
       "      <td>True</td>\n",
       "    </tr>\n",
       "    <tr>\n",
       "      <th>max(creditLimit)</th>\n",
       "      <td>50000</td>\n",
       "    </tr>\n",
       "    <tr>\n",
       "      <th>max(currentBalance)</th>\n",
       "      <td>47496.5</td>\n",
       "    </tr>\n",
       "    <tr>\n",
       "      <th>max(currentExpDate)</th>\n",
       "      <td>2032-01-01 00:00:00</td>\n",
       "    </tr>\n",
       "    <tr>\n",
       "      <th>max(customerId)</th>\n",
       "      <td>999985343</td>\n",
       "    </tr>\n",
       "    <tr>\n",
       "      <th>max(dateOfLastAddressChange)</th>\n",
       "      <td>2016-12-30 00:00:00</td>\n",
       "    </tr>\n",
       "    <tr>\n",
       "      <th>max(echoBuffer)</th>\n",
       "      <td></td>\n",
       "    </tr>\n",
       "    <tr>\n",
       "      <th>max(enteredCVV)</th>\n",
       "      <td>998</td>\n",
       "    </tr>\n",
       "    <tr>\n",
       "      <th>max(expirationDateKeyInMatch)</th>\n",
       "      <td>True</td>\n",
       "    </tr>\n",
       "    <tr>\n",
       "      <th>max(isFraud)</th>\n",
       "      <td>True</td>\n",
       "    </tr>\n",
       "    <tr>\n",
       "      <th>max(merchantCategoryCode)</th>\n",
       "      <td>subscriptions</td>\n",
       "    </tr>\n",
       "    <tr>\n",
       "      <th>max(merchantCity)</th>\n",
       "      <td>None</td>\n",
       "    </tr>\n",
       "    <tr>\n",
       "      <th>max(merchantCountryCode)</th>\n",
       "      <td>US</td>\n",
       "    </tr>\n",
       "    <tr>\n",
       "      <th>max(merchantName)</th>\n",
       "      <td>williamssonoma.com</td>\n",
       "    </tr>\n",
       "    <tr>\n",
       "      <th>max(merchantState)</th>\n",
       "      <td>None</td>\n",
       "    </tr>\n",
       "    <tr>\n",
       "      <th>max(merchantZip)</th>\n",
       "      <td>None</td>\n",
       "    </tr>\n",
       "    <tr>\n",
       "      <th>max(posConditionCode)</th>\n",
       "      <td>99</td>\n",
       "    </tr>\n",
       "    <tr>\n",
       "      <th>max(posEntryMode)</th>\n",
       "      <td>90</td>\n",
       "    </tr>\n",
       "    <tr>\n",
       "      <th>max(posOnPremises)</th>\n",
       "      <td>None</td>\n",
       "    </tr>\n",
       "    <tr>\n",
       "      <th>max(recurringAuthInd)</th>\n",
       "      <td>None</td>\n",
       "    </tr>\n",
       "    <tr>\n",
       "      <th>max(transactionAmount)</th>\n",
       "      <td>1825.25</td>\n",
       "    </tr>\n",
       "    <tr>\n",
       "      <th>max(transactionDateTime)</th>\n",
       "      <td>2016-12-30 23:59:27</td>\n",
       "    </tr>\n",
       "    <tr>\n",
       "      <th>max(transactionType)</th>\n",
       "      <td>REVERSAL</td>\n",
       "    </tr>\n",
       "    <tr>\n",
       "      <th>min(accountNumber)</th>\n",
       "      <td>100547107</td>\n",
       "    </tr>\n",
       "    <tr>\n",
       "      <th>...</th>\n",
       "      <td>...</td>\n",
       "    </tr>\n",
       "    <tr>\n",
       "      <th>min(transactionType)</th>\n",
       "      <td></td>\n",
       "    </tr>\n",
       "    <tr>\n",
       "      <th>avg(accountNumber)</th>\n",
       "      <td>5.5477e+08</td>\n",
       "    </tr>\n",
       "    <tr>\n",
       "      <th>0</th>\n",
       "      <td>0</td>\n",
       "    </tr>\n",
       "    <tr>\n",
       "      <th>0</th>\n",
       "      <td>0</td>\n",
       "    </tr>\n",
       "    <tr>\n",
       "      <th>avg(availableMoney)</th>\n",
       "      <td>6652.83</td>\n",
       "    </tr>\n",
       "    <tr>\n",
       "      <th>avg(cardCVV)</th>\n",
       "      <td>557.2</td>\n",
       "    </tr>\n",
       "    <tr>\n",
       "      <th>avg(cardLast4Digits)</th>\n",
       "      <td>4886.18</td>\n",
       "    </tr>\n",
       "    <tr>\n",
       "      <th>0</th>\n",
       "      <td>0</td>\n",
       "    </tr>\n",
       "    <tr>\n",
       "      <th>avg(creditLimit)</th>\n",
       "      <td>10697.2</td>\n",
       "    </tr>\n",
       "    <tr>\n",
       "      <th>avg(currentBalance)</th>\n",
       "      <td>4044.38</td>\n",
       "    </tr>\n",
       "    <tr>\n",
       "      <th>0</th>\n",
       "      <td>0</td>\n",
       "    </tr>\n",
       "    <tr>\n",
       "      <th>avg(customerId)</th>\n",
       "      <td>5.5477e+08</td>\n",
       "    </tr>\n",
       "    <tr>\n",
       "      <th>0</th>\n",
       "      <td>0</td>\n",
       "    </tr>\n",
       "    <tr>\n",
       "      <th>0</th>\n",
       "      <td>0</td>\n",
       "    </tr>\n",
       "    <tr>\n",
       "      <th>avg(enteredCVV)</th>\n",
       "      <td>556.775</td>\n",
       "    </tr>\n",
       "    <tr>\n",
       "      <th>0</th>\n",
       "      <td>0</td>\n",
       "    </tr>\n",
       "    <tr>\n",
       "      <th>0</th>\n",
       "      <td>0</td>\n",
       "    </tr>\n",
       "    <tr>\n",
       "      <th>0</th>\n",
       "      <td>0</td>\n",
       "    </tr>\n",
       "    <tr>\n",
       "      <th>avg(merchantCity)</th>\n",
       "      <td>None</td>\n",
       "    </tr>\n",
       "    <tr>\n",
       "      <th>0</th>\n",
       "      <td>0</td>\n",
       "    </tr>\n",
       "    <tr>\n",
       "      <th>0</th>\n",
       "      <td>0</td>\n",
       "    </tr>\n",
       "    <tr>\n",
       "      <th>avg(merchantState)</th>\n",
       "      <td>None</td>\n",
       "    </tr>\n",
       "    <tr>\n",
       "      <th>avg(merchantZip)</th>\n",
       "      <td>None</td>\n",
       "    </tr>\n",
       "    <tr>\n",
       "      <th>0</th>\n",
       "      <td>0</td>\n",
       "    </tr>\n",
       "    <tr>\n",
       "      <th>0</th>\n",
       "      <td>0</td>\n",
       "    </tr>\n",
       "    <tr>\n",
       "      <th>avg(posOnPremises)</th>\n",
       "      <td>None</td>\n",
       "    </tr>\n",
       "    <tr>\n",
       "      <th>avg(recurringAuthInd)</th>\n",
       "      <td>None</td>\n",
       "    </tr>\n",
       "    <tr>\n",
       "      <th>avg(transactionAmount)</th>\n",
       "      <td>135.162</td>\n",
       "    </tr>\n",
       "    <tr>\n",
       "      <th>0</th>\n",
       "      <td>0</td>\n",
       "    </tr>\n",
       "    <tr>\n",
       "      <th>0</th>\n",
       "      <td>0</td>\n",
       "    </tr>\n",
       "  </tbody>\n",
       "</table>\n",
       "<p>87 rows × 1 columns</p>\n",
       "</div>"
      ],
      "text/plain": [
       "                                                 0\n",
       "max(accountNumber)                       999985343\n",
       "max(accountOpenDate)           2015-12-31 00:00:00\n",
       "max(acqCountry)                                 US\n",
       "max(availableMoney)                          50000\n",
       "max(cardCVV)                                   998\n",
       "max(cardLast4Digits)                          9998\n",
       "max(cardPresent)                              True\n",
       "max(creditLimit)                             50000\n",
       "max(currentBalance)                        47496.5\n",
       "max(currentExpDate)            2032-01-01 00:00:00\n",
       "max(customerId)                          999985343\n",
       "max(dateOfLastAddressChange)   2016-12-30 00:00:00\n",
       "max(echoBuffer)                                   \n",
       "max(enteredCVV)                                998\n",
       "max(expirationDateKeyInMatch)                 True\n",
       "max(isFraud)                                  True\n",
       "max(merchantCategoryCode)            subscriptions\n",
       "max(merchantCity)                             None\n",
       "max(merchantCountryCode)                        US\n",
       "max(merchantName)               williamssonoma.com\n",
       "max(merchantState)                            None\n",
       "max(merchantZip)                              None\n",
       "max(posConditionCode)                           99\n",
       "max(posEntryMode)                               90\n",
       "max(posOnPremises)                            None\n",
       "max(recurringAuthInd)                         None\n",
       "max(transactionAmount)                     1825.25\n",
       "max(transactionDateTime)       2016-12-30 23:59:27\n",
       "max(transactionType)                      REVERSAL\n",
       "min(accountNumber)                       100547107\n",
       "...                                            ...\n",
       "min(transactionType)                              \n",
       "avg(accountNumber)                      5.5477e+08\n",
       "0                                                0\n",
       "0                                                0\n",
       "avg(availableMoney)                        6652.83\n",
       "avg(cardCVV)                                 557.2\n",
       "avg(cardLast4Digits)                       4886.18\n",
       "0                                                0\n",
       "avg(creditLimit)                           10697.2\n",
       "avg(currentBalance)                        4044.38\n",
       "0                                                0\n",
       "avg(customerId)                         5.5477e+08\n",
       "0                                                0\n",
       "0                                                0\n",
       "avg(enteredCVV)                            556.775\n",
       "0                                                0\n",
       "0                                                0\n",
       "0                                                0\n",
       "avg(merchantCity)                             None\n",
       "0                                                0\n",
       "0                                                0\n",
       "avg(merchantState)                            None\n",
       "avg(merchantZip)                              None\n",
       "0                                                0\n",
       "0                                                0\n",
       "avg(posOnPremises)                            None\n",
       "avg(recurringAuthInd)                         None\n",
       "avg(transactionAmount)                     135.162\n",
       "0                                                0\n",
       "0                                                0\n",
       "\n",
       "[87 rows x 1 columns]"
      ]
     },
     "execution_count": 9,
     "metadata": {},
     "output_type": "execute_result"
    }
   ],
   "source": [
    "# calculating max and min of each column\n",
    "dk = df.groupBy().agg(*[max(col(c)) for c in df.columns],\n",
    "                      *[min(col(c)) for c in df.columns],\n",
    "                      *[mean(col(c)) if y!='string' and y!='boolean' and y!='timestamp' else lit(0) for c,y in df.dtypes]\n",
    "                     ).toPandas()\n",
    "dk.transpose()"
   ]
  },
  {
   "cell_type": "markdown",
   "metadata": {},
   "source": [
    "## Distribution of transactionAmount"
   ]
  },
  {
   "cell_type": "code",
   "execution_count": 10,
   "metadata": {},
   "outputs": [
    {
     "name": "stdout",
     "output_type": "stream",
     "text": [
      "Percentage of transactionAmount less than $100: 54.59%\n"
     ]
    }
   ],
   "source": [
    "print('Percentage of transactionAmount less than $100: {:4.2f}%'.format(\n",
    "    df.filter(df.transactionAmount<100).count()*100/df.count())\n",
    "     )"
   ]
  },
  {
   "cell_type": "code",
   "execution_count": 11,
   "metadata": {},
   "outputs": [],
   "source": [
    "# convert to pandas\n",
    "dt = df.select('transactionAmount','isFraud').toPandas()"
   ]
  },
  {
   "cell_type": "code",
   "execution_count": 12,
   "metadata": {},
   "outputs": [
    {
     "data": {
      "image/png": "[encoded data removed]",
      "text/plain": [
       "<matplotlib.figure.Figure at 0x10febfd30>"
      ]
     },
     "metadata": {},
     "output_type": "display_data"
    }
   ],
   "source": [
    "# distribution of transactionAmount\n",
    "fig = plt.figure(1)\n",
    "ax = fig.add_subplot(111)\n",
    "dt['transactionAmount'].hist(bins=100,\n",
    "                            weights=np.ones_like(dt['transactionAmount'])*100./len(dt),\n",
    "                            rwidth = 0.75,\n",
    "                            grid = False,\n",
    "                            ax = ax)\n",
    "# ax.set_xlim([0,24])\n",
    "ax.set_xlabel('transactionAmount ($)')\n",
    "ax.set_ylabel('%')\n",
    "fig.set_size_inches(8,3)\n",
    "fig.savefig('transactionAmount_dist.png',bbox_inches='tight',format='png',dpi=600)"
   ]
  },
  {
   "cell_type": "code",
   "execution_count": 13,
   "metadata": {},
   "outputs": [
    {
     "name": "stderr",
     "output_type": "stream",
     "text": [
      "/anaconda3/lib/python3.6/site-packages/ipykernel_launcher.py:2: RuntimeWarning: divide by zero encountered in log\n",
      "  \n"
     ]
    }
   ],
   "source": [
    "# calculate the log of transactionAmount\n",
    "dt['transactionAmountLog'] = np.log(dt.transactionAmount)"
   ]
  },
  {
   "cell_type": "code",
   "execution_count": 14,
   "metadata": {
    "scrolled": true
   },
   "outputs": [
    {
     "data": {
      "image/png": "[encoded data removed]",
      "text/plain": [
       "<matplotlib.figure.Figure at 0x1a194be128>"
      ]
     },
     "metadata": {},
     "output_type": "display_data"
    }
   ],
   "source": [
    "# distribution of transactionAmountLog (replaced the log(0) with -10)\n",
    "fig = plt.figure(1)\n",
    "ax = fig.add_subplot(111)\n",
    "dt.loc[dt.transactionAmount==0,'transactionAmountLog'] = -10\n",
    "dt['transactionAmountLog'].hist(bins=100,\n",
    "                            weights=np.ones_like(dt['transactionAmountLog'])*100./len(dt),\n",
    "                            rwidth = 0.75,\n",
    "                            grid = False,\n",
    "                            ax = ax)\n",
    "ax.set_xlabel('Log(transactionAmount)')\n",
    "ax.set_ylabel('%')\n",
    "fig.set_size_inches(8,3)\n",
    "fig.savefig('transactionAmountLog_dist.png',bbox_inches='tight',format='png',dpi=600)"
   ]
  },
  {
   "cell_type": "code",
   "execution_count": 15,
   "metadata": {
    "scrolled": true
   },
   "outputs": [
    {
     "data": {
      "image/png": "[encoded data removed]",
      "text/plain": [
       "<matplotlib.figure.Figure at 0x110084160>"
      ]
     },
     "metadata": {},
     "output_type": "display_data"
    }
   ],
   "source": [
    "# distribution of transactionAmountLog (removed transactionAmount=0)\n",
    "\n",
    "fig = plt.figure(1)\n",
    "ax = fig.add_subplot(111)\n",
    "dt['transactionAmountLogStandard'] = (dt['transactionAmountLog'].loc[dt.transactionAmount!=0]-\n",
    "                                      np.mean(dt['transactionAmountLog'].loc[dt.transactionAmount!=0]))/np.std(dt['transactionAmountLog'].loc[dt.transactionAmount!=0])\n",
    "dt['transactionAmountLogStandard'].loc[dt.transactionAmount!=0].hist(bins=100,\n",
    "                            weights=np.ones_like(dt['transactionAmountLogStandard'].loc[dt.transactionAmount!=0])*100./len(dt.loc[dt.transactionAmount!=0]),\n",
    "                            rwidth = 0.75,\n",
    "                            grid = False,\n",
    "                            ax = ax)\n",
    "# ax.set_xlim([0,24])\n",
    "ax.set_xlabel('Log(transactionAmount)')\n",
    "ax.set_ylabel('%')\n",
    "fig.set_size_inches(8,3)\n",
    "fig.savefig('transactionAmountLog_dist.png',bbox_inches='tight',format='png',dpi=600)"
   ]
  },
  {
   "cell_type": "code",
   "execution_count": 16,
   "metadata": {
    "scrolled": true
   },
   "outputs": [
    {
     "name": "stdout",
     "output_type": "stream",
     "text": [
      "Kurtosis for log of transactionAmount = 1.43\n",
      "Skew for log of transactionAmount = -0.93\n"
     ]
    }
   ],
   "source": [
    "print('Kurtosis for log of transactionAmount = {:4.2f}'\n",
    "      .format(dt['transactionAmountLogStandard'].loc[dt.transactionAmount!=0].kurtosis()))\n",
    "print('Skew for log of transactionAmount = {:4.2f}'\n",
    "      .format(dt['transactionAmountLogStandard'].loc[dt.transactionAmount!=0].skew()))\n"
   ]
  },
  {
   "cell_type": "markdown",
   "metadata": {},
   "source": [
    "# Nulls"
   ]
  },
  {
   "cell_type": "code",
   "execution_count": 6,
   "metadata": {},
   "outputs": [
    {
     "name": "stdout",
     "output_type": "stream",
     "text": [
      "Number of samples: 641914 \n",
      "\n",
      "\n",
      "column_name,data_type,null_count,null_percentage \n",
      "\n",
      "acqCountry,string,3913,0% \n",
      "\n",
      "echoBuffer,string,641914,100% \n",
      "\n",
      "merchantCity,int,641914,100% \n",
      "\n",
      "merchantCountryCode,string,624,0% \n",
      "\n",
      "merchantState,int,641914,100% \n",
      "\n",
      "merchantZip,int,641914,100% \n",
      "\n",
      "posConditionCode,string,287,0% \n",
      "\n",
      "posEntryMode,string,3345,0% \n",
      "\n",
      "posOnPremises,int,641914,100% \n",
      "\n",
      "recurringAuthInd,int,641914,100% \n",
      "\n",
      "transactionType,string,589,0% \n",
      "\n",
      "\n",
      "There are 11 columns with null values. \n",
      "\n",
      "\n"
     ]
    }
   ],
   "source": [
    "# Count the nulls.\n",
    "# Create a list of columns with more than 30% nulls\n",
    "# Create a null map dict. For each columns it provides the value that replaces the null. \n",
    "n = df.count()\n",
    "print('Number of samples: {:d} \\n\\n'.format(n))\n",
    "print('column_name,data_type,null_count,null_percentage \\n')\n",
    "col_count = 0\n",
    "remove_cols = []\n",
    "null_map = {}\n",
    "for c,y in df.dtypes:\n",
    "    if y == 'string':\n",
    "        null_cnt = df.filter(df[c]=='').count()  # for string columns, empty is considered as null\n",
    "    else:\n",
    "        null_cnt = df.filter(df[c].isNull()).count()\n",
    "\n",
    "    if  null_cnt> 0:\n",
    "        col_count += 1\n",
    "        if math.floor(null_cnt*1./n*100) > 30:\n",
    "            remove_cols.append(c)\n",
    "        elif y == 'string' :\n",
    "            null_map[c] = 'unknown'  # for string columns, empty rows will be replaced by \"unknown\"\n",
    "        print('{:s},{:s},{:d},{:d}% \\n'.format(c,y,null_cnt,math.floor(null_cnt*1./n*100)))\n",
    "\n",
    "print('\\nThere are {:d} columns with null values. \\n\\n'.format(col_count))\n",
    "\n",
    "# Among the columns with null (empty) values that we are going to keep all have string data type.\n",
    "# We just replace the empty rows of those columns with the value in null_map (\"unknown\").\n",
    "for c in null_map.keys():\n",
    "    df = df.withColumn(c,when(col(c)=='',null_map[c]).otherwise(col(c)))\n",
    "\n",
    "# Creating a list of columns that we will keep (removing columns with more than 30% null/empty)\n",
    "keep_cols = []\n",
    "for c in df.columns:\n",
    "    if c not in remove_cols:\n",
    "        keep_cols.append(c)\n",
    "\n",
    "# Removing the columns from the data frame\n",
    "df = df.select(keep_cols)\n"
   ]
  },
  {
   "cell_type": "markdown",
   "metadata": {},
   "source": [
    "# Duplicates"
   ]
  },
  {
   "cell_type": "code",
   "execution_count": 7,
   "metadata": {
    "scrolled": true
   },
   "outputs": [],
   "source": [
    "# Finding duplicate and reversal transactions:\n",
    "# By using a window which is partiotned by accountNumber and sorted by transactionDateTime\n",
    "# we create a column for the time difference (in seconds) between two consecutive \n",
    "# transactions in an account.\n",
    "w = Window.partitionBy('accountNumber').orderBy('transactionDateTime')\n",
    "df = df.withColumn('transactionDateTime_prev',lag(df.transactionDateTime).over(w))  # time of previous transaction\n",
    "\n",
    "df = df.withColumn('diffD',\n",
    "                   datediff(df.transactionDateTime,df.transactionDateTime_prev))\n",
    "\n",
    "df = df.withColumn('diffH',\n",
    "                   df.diffD*24+      # days\n",
    "                   (hour(df.transactionDateTime)-hour(df.transactionDateTime_prev)))\n",
    "\n",
    "df = df.withColumn('diffS',\n",
    "                   datediff(df.transactionDateTime,df.transactionDateTime_prev)*24*3600+      # days\n",
    "                   (hour(df.transactionDateTime)-hour(df.transactionDateTime_prev))*3600+     # hours\n",
    "                   (minute(df.transactionDateTime)-minute(df.transactionDateTime_prev))*60+   # minutes\n",
    "                   (second(df.transactionDateTime)-second(df.transactionDateTime_prev))       # seconds\n",
    "                  )\n",
    "\n",
    "\n",
    "for c in ['diffD','diffH','diffS']:\n",
    "    df = df.withColumn(c,when(col(c).isNull(),0).otherwise(col(c)))\n",
    "\n",
    "# Using the same window we create a column for prvious transaction's amount\n",
    "df = df.withColumn('transactionAmount_prev',lag(df.transactionAmount).over(w))\n",
    "\n",
    "# If two consecutive transactions occured in lass than 5 minutes and their amount is the same\n",
    "# they are considered as repeated.\n",
    "# Here, the first transaction isn't flagged as repeated.\n",
    "df = df.withColumn('isRepeated',\n",
    "                  when((df.diffS<300) &\n",
    "                      (df.transactionAmount==df.transactionAmount_prev),\n",
    "                      1).otherwise(0))\n"
   ]
  },
  {
   "cell_type": "markdown",
   "metadata": {},
   "source": [
    "## Number of swipes in duplicate transactions"
   ]
  },
  {
   "cell_type": "code",
   "execution_count": 8,
   "metadata": {
    "scrolled": false
   },
   "outputs": [
    {
     "name": "stdout",
     "output_type": "stream",
     "text": [
      "Number of reversed transactions: 4197 \n",
      "Amount of reversed transactions: \n",
      "+----------------------+\n",
      "|sum(transactionAmount)|\n",
      "+----------------------+\n",
      "|     552246.8199999997|\n",
      "+----------------------+\n",
      "\n",
      "\n",
      "Number of duplicate transactions: 6477\n",
      "Amount of duplicate transactions: \n",
      "+----------------------+\n",
      "|sum(transactionAmount)|\n",
      "+----------------------+\n",
      "|     986478.9300000003|\n",
      "+----------------------+\n",
      "\n",
      "Total transactionAmount after removing duplicate transactions:\n",
      "+----------------------+\n",
      "|sum(transactionAmount)|\n",
      "+----------------------+\n",
      "|   8.577622015999995E7|\n",
      "+----------------------+\n",
      "\n"
     ]
    }
   ],
   "source": [
    "df = df.withColumn('XORrepeated',df.isRepeated.bitwiseXOR(1)) # flag not duplicate\n",
    "\n",
    "# window partitioned by accountNumber and ordered by transactionDateTime\n",
    "w1 = Window.partitionBy('accountNumber').orderBy('transactionDateTime')\n",
    "\n",
    "# new data frame (dg); create a dummy variable \n",
    "df = df.withColumn('subgroup',sum(df.XORrepeated).over(w1))\n",
    "\n",
    "df = df.withColumn('availableMoneyNext',lag(df.availableMoney,-1).over(w1))\n",
    "df = df.withColumn('availableMoneyPrev',lag(df.availableMoney).over(w1))\n",
    "\n",
    "# window partitioned by accountNumber and the dummy variable \n",
    "w2 = Window.partitionBy('accountNumber','subgroup')\n",
    "# count the number of swipes in each duplicate transaction\n",
    "df = df.withColumn('duplicateCounter',count(df.XORrepeated).over(w2))\n",
    "# flag reverse transactions where the availableMoney doesn't change\n",
    "df = df.withColumn('isReverse',\n",
    "                  when((df.duplicateCounter>1) &\n",
    "                       (df.availableMoneyNext==df.availableMoneyPrev),\n",
    "                       1).otherwise(0))\n",
    "\n",
    "df = df.withColumn('isReverseNext',lag(df.isReverse,-1).over(w1))\n",
    "print('Number of reversed transactions: {:d} '.format(df.filter(df.isReverse==1).count()))\n",
    "print('Amount of reversed transactions: ')\n",
    "df.filter(df.isReverse==1).groupby().agg(sum(col('transactionAmount'))).show()\n",
    "\n",
    "# If two consecutive transactions occured in lass than 5 minutes and their amount is the same\n",
    "# and the transaction is not reversed that is considered as multiple swipe or duplicated.\n",
    "# Here, the first transaction isn't flagged as duplicated.\n",
    "df = df.withColumn('isDuplicate',\n",
    "                  when((df.diffS<300) &\n",
    "                      (df.transactionAmount==df.transactionAmount_prev) &\n",
    "                       (df.isReverse==0),\n",
    "                      1).otherwise(0))\n",
    "\n",
    "print('\\nNumber of duplicate transactions: {:d}'.format(df.filter(df.isDuplicate==1).count()))\n",
    "print('Amount of duplicate transactions: ')\n",
    "df.filter(df.isDuplicate==1).groupby().agg(sum(col('transactionAmount'))).show()\n",
    "# keep only those which swiped more than once\n",
    "df1 = df.filter((df.duplicateCounter>1))\n",
    "# window partitioned by accountNumber and dummy variable orderd by transactionDateTime\n",
    "w3 = Window.partitionBy('accountNumber','subgroup').orderBy('transactionDateTime')\n",
    "# keep only the first duplicate transaction\n",
    "df1 = df1.withColumn(\"rn\",row_number().over(w3)).filter(\"rn == 1\")\n",
    "\n",
    "print('Total transactionAmount after removing duplicate transactions:')\n",
    "df.filter((df.isDuplicate==0)).groupby().agg(sum(df.transactionAmount)).show()"
   ]
  },
  {
   "cell_type": "code",
   "execution_count": 9,
   "metadata": {},
   "outputs": [],
   "source": [
    "df1 = df1.withColumn('transactionAmount_Duplicate',df1.transactionAmount*(df.duplicateCounter-1))\n",
    "dg = df1.select('duplicateCounter','transactionAmount_Duplicate').toPandas()"
   ]
  },
  {
   "cell_type": "code",
   "execution_count": 21,
   "metadata": {
    "scrolled": true
   },
   "outputs": [
    {
     "data": {
      "image/png": "[encoded data removed]",
      "text/plain": [
       "<matplotlib.figure.Figure at 0x107240e10>"
      ]
     },
     "metadata": {},
     "output_type": "display_data"
    }
   ],
   "source": [
    "fig = plt.figure(1)\n",
    "ax = fig.add_subplot(111)\n",
    "dg['duplicateCounter'].hist(bins=[1.5,2.5,3.5,4.5],\n",
    "                            weights=np.ones_like(dg['duplicateCounter'])*100./len(dg),\n",
    "                            rwidth = 0.75,\n",
    "                            grid = False,\n",
    "                            ax = ax)\n",
    "# ax.set_xlim([0,24])\n",
    "ax.set_xlabel('N swipes')\n",
    "ax.set_ylabel('%')\n",
    "fig.set_size_inches(8,4)"
   ]
  },
  {
   "cell_type": "code",
   "execution_count": 22,
   "metadata": {
    "scrolled": true
   },
   "outputs": [
    {
     "data": {
      "image/png": "[encoded data removed]",
      "text/plain": [
       "<matplotlib.figure.Figure at 0x107255c18>"
      ]
     },
     "metadata": {},
     "output_type": "display_data"
    }
   ],
   "source": [
    "fig = plt.figure(1)\n",
    "ax = fig.add_subplot(111)\n",
    "dg['transactionAmount_Duplicate'].hist(bins=50,\n",
    "                            weights=np.ones_like(dg['transactionAmount_Duplicate'])*100./len(dg),\n",
    "                            rwidth = 0.75,\n",
    "                            grid = False,\n",
    "                            ax = ax)\n",
    "# ax.set_xlim([0,24])\n",
    "ax.set_xlabel('duplcate transaction amount ($)')\n",
    "ax.set_ylabel('%')\n",
    "fig.set_size_inches(8,4)"
   ]
  },
  {
   "cell_type": "markdown",
   "metadata": {},
   "source": [
    "# Data structure and histograms"
   ]
  },
  {
   "cell_type": "code",
   "execution_count": 23,
   "metadata": {},
   "outputs": [],
   "source": [
    "# remove duplicate transactions\n",
    "df = df.filter(df.isDuplicate==0)"
   ]
  },
  {
   "cell_type": "code",
   "execution_count": 24,
   "metadata": {},
   "outputs": [
    {
     "name": "stdout",
     "output_type": "stream",
     "text": [
      "Total number of transactions: 635437\n",
      "Total number of fraudulant transactions: 11160\n",
      "Number of consecutive transactions with time diff less than 1 day: 272974 (42% of total)\n",
      "Number of consecutive transactions with time diff more than 10 days: 38089 (5% of total) \n",
      "\n",
      "Number of fraudulent transactions with time diff less than 1 day: 5135 (46% of fraud cases)\n",
      "Number of fraudulent transactions with time diff less than 10 days: 10669 (95% of fraud cases)\n",
      "Number of duplicate and fraudulent transactions: 0 (0% of fraud cases)\n"
     ]
    }
   ],
   "source": [
    "nfraud = df.filter(df.isFraud==1).count()\n",
    "ntransactions = df.count()\n",
    "\n",
    "print('Total number of transactions: {:d}'.format(df.count()))\n",
    "print('Total number of fraudulant transactions: {:d}'.format(nfraud))\n",
    "print('Number of consecutive transactions with time diff less than 1 day: {:d} ({:d}% of total)'\n",
    "      .format(df.filter(df.diffD<1).count(),df.filter(df.diffD<1).count()*100//ntransactions))\n",
    "print('Number of consecutive transactions with time diff more than 10 days: {:d} ({:d}% of total) \\n'\n",
    "      .format(df.filter(df.diffD>10).count(),df.filter(df.diffD>10).count()*100//ntransactions))\n",
    "\n",
    "dummy = df.filter((df.diffD<1) & (df.isFraud==1)).count()\n",
    "print('Number of fraudulent transactions with time diff less than 1 day: {:d} ({:d}% of fraud cases)'\n",
    "      .format(dummy,dummy*100//nfraud))\n",
    "\n",
    "dummy = df.filter((df.diffD<10) & (df.isFraud==1)).count()\n",
    "print('Number of fraudulent transactions with time diff less than 10 days: {:d} ({:d}% of fraud cases)'\n",
    "      .format(dummy,dummy*100//nfraud))\n",
    "\n",
    "\n",
    "dummy = df.filter((df.isDuplicate==1) & (df.isFraud==1)).count()\n",
    "print('Number of duplicate and fraudulent transactions: {:d} ({:d}% of fraud cases)'\n",
    "      .format(dummy,dummy*100//nfraud))\n",
    "\n"
   ]
  },
  {
   "cell_type": "code",
   "execution_count": 25,
   "metadata": {},
   "outputs": [],
   "source": [
    "dg = df.select(['diffS','diffD','diffH','isFraud']).toPandas()"
   ]
  },
  {
   "cell_type": "markdown",
   "metadata": {},
   "source": [
    "## Distribution of days between two consecutive transactions"
   ]
  },
  {
   "cell_type": "code",
   "execution_count": 26,
   "metadata": {},
   "outputs": [
    {
     "data": {
      "image/png": "[encoded data removed]",
      "text/plain": [
       "<matplotlib.figure.Figure at 0x107252b70>"
      ]
     },
     "metadata": {},
     "output_type": "display_data"
    }
   ],
   "source": [
    "fig = plt.figure(1)\n",
    "ax = fig.add_subplot(111)\n",
    "dg['diffD'].loc[ (dg.diffD<10)].hist(bins=10,\n",
    "                    weights=np.ones_like(dg['diffD'].loc[ (dg.diffD<10)])*100./len(dg.loc[ (dg.diffD<10)]),\n",
    "                    rwidth = 0.75,\n",
    "                    grid = False,\n",
    "                    ax = ax)\n",
    "# ax.set_xlim([0,24])\n",
    "ax.set_xlabel('time diff (days)')\n",
    "ax.set_ylabel('%')\n",
    "fig.set_size_inches(8,4)"
   ]
  },
  {
   "cell_type": "markdown",
   "metadata": {},
   "source": [
    "## Distribution of hours between two consecutive transactions (in one day)"
   ]
  },
  {
   "cell_type": "code",
   "execution_count": 27,
   "metadata": {},
   "outputs": [
    {
     "data": {
      "image/png": "[encoded data removed]",
      "text/plain": [
       "<matplotlib.figure.Figure at 0x107252518>"
      ]
     },
     "metadata": {},
     "output_type": "display_data"
    }
   ],
   "source": [
    "fig = plt.figure(1)\n",
    "ax = fig.add_subplot(111)\n",
    "dg['diffH'].loc[dg.diffD<1].hist(bins=24,\n",
    "                    weights=np.ones_like(dg['diffH'].loc[dg.diffD<1])*100./len(dg.loc[dg.diffD<1]),\n",
    "                    rwidth = 0.75,\n",
    "                    grid = False,\n",
    "                    ax = ax)\n",
    "# ax.set_xlim([0,24])\n",
    "# ax.set_ylim([0,20])\n",
    "\n",
    "ax.set_xlabel('time diff (hr)')\n",
    "ax.set_ylabel('%')\n",
    "fig.set_size_inches(8,4)"
   ]
  },
  {
   "cell_type": "markdown",
   "metadata": {},
   "source": [
    "# Feature engineering"
   ]
  },
  {
   "cell_type": "code",
   "execution_count": 10,
   "metadata": {},
   "outputs": [],
   "source": [
    "# Creating 4 new features for transactionDateTime.\n",
    "# hour, dayOfWeek,dayOfMonth and dayOfYear\n",
    "# Creating the age column for other date columns. (ref to ageInDays function)\n",
    "for c in date_colummns:\n",
    "    if c == 'transactionDateTime':\n",
    "        df = df.withColumn(c + '_hour',hour(col(c)))\n",
    "        df = df.withColumn(c + '_dayOfWeek',dayofweek(col(c)))\n",
    "        df = df.withColumn(c + '_dayOfMonth',dayofmonth(col(c)))\n",
    "        df = df.withColumn(c + '_dayOfYear',dayofyear(col(c)))\n",
    "    else:\n",
    "        df = ageInDays(df,c)\n",
    "\n",
    "# Creating a new column for transactionDateTime which divides the time of \n",
    "# transaction to 4 categories: morning, afternoon, night and midnight\n",
    "c = 'transactionDateTime' \n",
    "df = df.withColumn(c + '_timeOfDay',\n",
    "                           when(col(c+'_hour')<8,'midnight').otherwise(\n",
    "                               when(col(c+'_hour')<12,'morning').otherwise(\n",
    "                                   when(col(c+'_hour')<18,'afternoon').otherwise('night')\n",
    "                               )\n",
    "                           )\n",
    "                          )"
   ]
  },
  {
   "cell_type": "code",
   "execution_count": 11,
   "metadata": {},
   "outputs": [],
   "source": [
    "# Creating a z-score for tranactionAmount at customer level\n",
    "# window partitioned by customerId\n",
    "w = Window.partitionBy('customerId')\n",
    "# calculate the z-score\n",
    "df = df.withColumn('transactionAmount_z',\n",
    "                   (df.transactionAmount-mean(df.transactionAmount).over(w))/stddev_samp(df.transactionAmount).over(w))\n",
    "# replace the null and nan with zero (null means the stddev is zero and nan means there is only one transactions)\n",
    "df = df.withColumn('transactionAmount_z',when((df.transactionAmount_z.isNull()) \n",
    "                                              | isnan(df.transactionAmount_z),0).otherwise(df.transactionAmount_z))\n",
    "\n",
    "# Creating a new column to flag the mismath between cardCVV and enteredCVV\n",
    "df = df.withColumn('CVVinMatch',when(df.cardCVV==df.enteredCVV,1).otherwise(0))\n",
    "\n",
    "# Creating a new column to flag the mismath between merchanCountryCode and acqCountry\n",
    "df = df.withColumn('countryinMatch',when(df.acqCountry==df.merchantCountryCode,1).otherwise(0))\n",
    "\n"
   ]
  },
  {
   "cell_type": "code",
   "execution_count": 12,
   "metadata": {},
   "outputs": [
    {
     "name": "stdout",
     "output_type": "stream",
     "text": [
      "Number of unique values for each categorical feature: \n",
      "\n"
     ]
    }
   ],
   "source": [
    "# Count the number of distinct values for string (categorical columns)\n",
    "# replace boolean with 1/0\n",
    "print('Number of unique values for each categorical feature: \\n')\n",
    "for x,y in df.dtypes:\n",
    "#     if y=='string':\n",
    "#         print('{:s} {:d}'.format(x,df.select(x).distinct().count()))\n",
    "    if y=='boolean':\n",
    "        df = df.withColumn(x,when(df[x]==True,1\n",
    "                                 ).otherwise(0))"
   ]
  },
  {
   "cell_type": "code",
   "execution_count": 13,
   "metadata": {},
   "outputs": [],
   "source": [
    "# Number of distinct values for merchantName is too high to use OneHotEncoder.\n",
    "# merchantName contains a brand name like CVS follwed by a number that probably \n",
    "# is indicator of the store number. \n",
    "# First we create a new column (merchantName_main) which only contains the brand name.\n",
    "df = col_replace(df,'merchantName',r' (#)(\\d+)','','string','merchantName_main')\n",
    "\n",
    "\n",
    "# We replace accountNumber, merchanName and merchantName_main columns with Weight of Evidence (WEO).\n",
    "TP = df.agg(*[sum(df.isFraud).alias('sum_isFraud')]).collect()[0]['sum_isFraud']  # total number of positives (frauds)\n",
    "TN = df.count()-TP                                                                # total number of negatives (not fraud)\n",
    "\n",
    "# for each distinct value we calculate the number of positives and negatives and \n",
    "# finally calculate the WOE\n",
    "for c in ['merchantName','merchantName_main','accountNumber']:\n",
    "    w = Window.partitionBy(c) \n",
    "    df = df.withColumn(c + '_P',when(sum(df.isFraud).over(w)!=0,sum(df.isFraud).over(w)).otherwise(0.01)) \n",
    "    df = df.withColumn(c + '_N',count(df.isFraud).over(w)-col(c+'_P'))\n",
    "    df = df.withColumn(c,log((col(c+'_P')/TP)/(col(c+'_N')/TN)))\n",
    "\n",
    "df = df.fillna({'accountNumber':1e10})"
   ]
  },
  {
   "cell_type": "code",
   "execution_count": 14,
   "metadata": {},
   "outputs": [],
   "source": [
    "# create a list of categorical and numerical columns\n",
    "cat_cols = []\n",
    "num_cols = []\n",
    "for x, y in df.dtypes:\n",
    "    if y == 'string':\n",
    "        cat_cols.append(x)\n",
    "    elif y != 'timestamp':\n",
    "        num_cols.append(x)\n",
    "\n",
    "\n",
    "# replace the nulls in diffS column with zero (diffS only for the first transction in \n",
    "# each partition is null so it makes sense to replace them with zero)\n",
    "df = df.fillna({'diffS': 0})\n",
    "\n",
    "label = 'isFraud'             # target column\n",
    "\n",
    "# columns that we are going to remove from the training dataset:\n",
    "# the target columns\n",
    "# unique identifiers\n",
    "# columns with only one distinct value\n",
    "# dummy columns that we created for previous transformations\n",
    "num_cols_toRemove = ['isFraud', \n",
    "                     'cardCVV', 'cardLast4Digits', \n",
    "                     'customerId', 'enteredCVV',\n",
    "                     'transactionAmount_prev', 'isDuplicate','XORduplicate',\n",
    "                     'diffD','diffS','subgroup','duplicateCounter',\n",
    "                     'accountNumber_P','accountNumber_N',\n",
    "                     'merchantName_P','merchantName_N',\n",
    "                     'merchantName_main_P','merchantName_main_N'\n",
    "                    ]\n",
    "\n",
    "# Finall list of numerical columns that we use in training\n",
    "num_cols = [x for x in num_cols if x not in num_cols_toRemove]\n",
    "\n",
    "# Make sure that the dependent variable is not in the list of independent varibales\n",
    "assert label not in num_cols\n"
   ]
  },
  {
   "cell_type": "markdown",
   "metadata": {},
   "source": [
    "# Pipeline"
   ]
  },
  {
   "cell_type": "code",
   "execution_count": 15,
   "metadata": {},
   "outputs": [],
   "source": [
    "# Creating index for categorical columns\n",
    "cat_indexers = [StringIndexer(inputCol = x, outputCol = x + '_Index') for x in cat_cols]\n",
    "\n",
    "# Creating OneHotEncoder for categorical columns\n",
    "encoders = [OneHotEncoder(inputCol=indexer.getOutputCol(),\n",
    "                          outputCol=indexer.getOutputCol() + '_Encoded')\n",
    "            for indexer in cat_indexers ]\n",
    "\n",
    "# Creating assembler (Assemble onehotencoder with numerical columns)\n",
    "assembler = VectorAssembler(inputCols=\n",
    "                            [encoder.getOutputCol() for encoder in encoders] + \n",
    "                            num_cols,\n",
    "                            outputCol='features')\n",
    "\n",
    "# Creating stages \n",
    "stages = cat_indexers + encoders + [assembler]\n",
    "\n",
    "# Creatinf pipeline\n",
    "pipeline = Pipeline(stages=stages)\n",
    "\n",
    "# Fit and transform the pipeline\n",
    "pipeline = pipeline.fit(df)\n",
    "df = pipeline.transform(df)\n"
   ]
  },
  {
   "cell_type": "raw",
   "metadata": {},
   "source": [
    "# Split the data frame to training and test data set (in case youw want to use pyspark xgboost)\n",
    "(trainingData,testData) = df.randomSplit([0.8,0.2],seed=0)"
   ]
  },
  {
   "cell_type": "markdown",
   "metadata": {},
   "source": [
    "End of Transformations"
   ]
  },
  {
   "cell_type": "markdown",
   "metadata": {},
   "source": [
    "# Training model"
   ]
  },
  {
   "cell_type": "markdown",
   "metadata": {},
   "source": [
    "Here I am going to use XGBoost python API to train the model.\n",
    "\n",
    "Here we have used hyperopt package for hyper parameter tuning.\n"
   ]
  },
  {
   "cell_type": "code",
   "execution_count": null,
   "metadata": {},
   "outputs": [],
   "source": [
    "# convert to pandas dataframe\n",
    "pandaDf = df.select(['features',label]).toPandas()\n",
    "y = pandaDf[label].values.reshape(-1,1)\n",
    "series = pandaDf['features'].apply(lambda x : np.array(x.toArray())).as_matrix().reshape(-1,1)\n",
    "features = np.apply_along_axis(lambda x : x[0], 1, series)\n",
    "\n",
    "# split to train and test set\n",
    "X_train, X_test, y_train, y_test = train_test_split(features, y, test_size=0.2, random_state=42)\n",
    "\n",
    "# convert to DMatrix\n",
    "dtrain = xgb.DMatrix(X_train,y_train)\n",
    "dtest = xgb.DMatrix(X_test,y_test)"
   ]
  },
  {
   "cell_type": "code",
   "execution_count": 34,
   "metadata": {
    "scrolled": true
   },
   "outputs": [
    {
     "name": "stdout",
     "output_type": "stream",
     "text": [
      "learning_rate,min_child_weight,subsample,colsample_bytree,reg_lambda,reg_alpha,scale_pos_weight,n_estimators,max_depth,rate_drop,test_auc_mean \n",
      "0.152625,1.453740,0.922940,0.600257,0.000074,18.051921,44.306846,61,22,0.118373,0.843087\n",
      "0.083971,7.390880,0.874929,0.990555,0.130229,1.152445,51.590772,33,11,0.035290,0.861782\n",
      "0.081188,4.680802,0.885037,0.638955,0.077976,0.000076,24.247460,25,11,0.027009,0.860504\n",
      "0.106958,7.651896,0.657023,0.609442,3.348525,0.000027,9.230722,43,22,0.116908,0.778463\n",
      "0.015067,1.014199,0.875781,0.822119,0.015156,0.004873,36.952213,71,13,0.078568,0.859064\n",
      "0.094595,8.668287,0.996689,0.743886,9.217576,0.061474,51.630619,86,6,0.087892,0.870197\n",
      "0.015334,8.784208,0.908680,0.924190,3.985329,1.423865,53.499133,76,19,0.024290,0.852338\n",
      "0.025261,3.544115,0.718275,0.636673,0.019063,0.000174,1.978026,55,12,0.241427,0.856079\n",
      "0.233050,5.076758,0.661000,0.621969,0.005907,0.002064,32.542046,57,18,0.021330,0.668020\n",
      "0.028276,5.138454,0.656974,0.969278,48.360852,0.017293,45.954453,15,18,0.010275,0.860700\n",
      "0.053315,7.745140,0.880938,0.818281,0.262560,1.480282,28.551410,31,20,0.020133,0.827634\n",
      "0.027496,9.842337,0.799674,0.651246,0.000033,1.821135,52.759881,85,10,0.012389,0.866584\n",
      "0.132220,1.039598,0.637735,0.987499,6.411761,0.000394,36.636592,14,24,0.027550,0.778585\n",
      "0.148237,2.378186,0.951924,0.716608,0.000268,0.427670,5.971898,77,10,0.251510,0.867254\n",
      "0.228201,9.752663,0.923400,0.695502,0.223207,0.004282,11.457262,75,21,0.129087,0.713782\n",
      "0.018649,2.406718,0.850152,0.980039,0.000035,0.000096,30.721695,50,7,0.014312,0.868253\n",
      "0.028242,6.575369,0.796696,0.982582,0.000104,0.003397,13.437285,25,6,0.057771,0.865374\n",
      "0.042725,3.734708,0.680194,0.776320,33.659842,24.366381,24.305179,59,18,0.030520,0.864789\n",
      "0.010658,4.758996,0.838511,0.630174,0.033434,0.000011,54.296575,68,15,0.134795,0.846528\n",
      "0.012642,3.420717,0.850954,0.792116,0.002159,0.000126,7.508354,16,20,0.085581,0.805170\n",
      "0.048659,8.883307,0.736204,0.887975,0.000770,0.130178,44.866706,98,3,0.044371,0.863124\n",
      "0.069033,6.463759,0.968495,0.743079,1.029431,0.040633,16.500482,45,6,0.014331,0.871091\n",
      "0.071383,5.923289,0.996007,0.744423,0.844043,0.063157,17.298228,100,3,0.182011,0.854503\n",
      "0.040110,6.602455,0.997844,0.685838,86.516725,0.022944,18.636619,87,6,0.069019,0.868015\n",
      "0.066156,8.894112,0.966479,0.862271,1.358196,0.281110,59.024478,46,29,0.046671,0.761905\n",
      "\n"
     ]
    }
   ],
   "source": [
    "print('learning_rate,min_child_weight,subsample,colsample_bytree,reg_lambda,reg_alpha,scale_pos_weight,n_estimators,max_depth,rate_drop,test_auc_mean \\n')\n",
    "\n",
    "def sample_loss(args):\n",
    "    \"\"\"\n",
    "    The function that hyperopt will minimize. It returns (1-auc), hence minimizing it equivalent to maximizing\n",
    "    auc. We have used XGBoost cross validation with 3 folds.\n",
    "    \"\"\"\n",
    "    max_depth,scale_pos_weight,min_child_weight,n_estimators,learning_rate,subsample,colsample_bytree,reg_lambda,reg_alpha,rate_drop = args\n",
    "    print('{:4.6f},{:4.6f},{:4.6f},{:4.6f},{:4.6f},{:4.6f},{:4.6f},{:d},{:d},{:4.6f},'\n",
    "          .format(learning_rate,min_child_weight,subsample,\n",
    "                  colsample_bytree,reg_lambda,reg_alpha,\n",
    "                  scale_pos_weight,n_estimators,max_depth,rate_drop),end='')\n",
    "    param = {'max_depth':max_depth,\n",
    "             'scale_pos_weight':scale_pos_weight,\n",
    "             'min_child_weight':min_child_weight,\n",
    "             'n_estimators':n_estimators,\n",
    "             'learning_rate':learning_rate,\n",
    "             'subsample':subsample,\n",
    "             'colsample_bytree':colsample_bytree,\n",
    "             'reg_lambda':reg_lambda,\n",
    "             'reg_alpha':reg_alpha,\n",
    "             'booster':'dart',\n",
    "             'rate_drop':rate_drop\n",
    "            }\n",
    "    cv_score = xgb.cv(param,dtrain, param['n_estimators'], nfold=3, metrics={'auc'}, seed=0)\n",
    "    print('{:4.6f} \\n'.format(cv_score.iloc[-1]['test-auc-mean']))\n",
    "    return 1-cv_score.iloc[-1]['test-auc-mean']\n",
    "\n",
    "space =[\n",
    "    hp.uniformint('max_depth',3,30),\n",
    "    hp.uniform('scale_pos_weight',1,60),\n",
    "    hp.uniform('min_child_weight',1,10),\n",
    "    hp.uniformint('n_estimators',5,100),\n",
    "    hp.loguniform('learning_rate',np.log(0.01),np.log(0.3)),\n",
    "    hp.uniform('subsample',0.6,1),\n",
    "    hp.uniform('colsample_bytree',0.6,1),\n",
    "    hp.loguniform('reg_lambda',np.log(0.00001),np.log(100)),\n",
    "    hp.loguniform('reg_alpha',np.log(0.00001),np.log(100)),\n",
    "    hp.loguniform('rate_drop',np.log(0.01),np.log(0.3))\n",
    "]\n",
    "\n",
    "best_xgb = fmin(sample_loss,\n",
    "           space = space,\n",
    "           algo=tpe.suggest,\n",
    "           max_evals=25)  # Here I have only used 25 so the cell run faster.\n",
    "\n"
   ]
  },
  {
   "cell_type": "markdown",
   "metadata": {},
   "source": [
    "Look at https://github.com/dmlc/xgboost/issues/92 for why we can't use \n",
    "CV for making prediction. The way we do here is also recommended there."
   ]
  },
  {
   "cell_type": "code",
   "execution_count": 35,
   "metadata": {},
   "outputs": [],
   "source": [
    "\n",
    "# Train the best model\n",
    "best_xgb={'colsample_bytree': 0.743079,\n",
    "            'learning_rate': 0.069033,\n",
    "            'max_depth': 6,\n",
    "            'min_child_weight': 6.463759,\n",
    "            'n_estimators': 45,\n",
    "            'rate_drop': 0.014331,\n",
    "            'reg_alpha': 0.040633,\n",
    "            'reg_lambda':1.029431,\n",
    "            'scale_pos_weight':16.500482,\n",
    "            'subsample': 0.968495\n",
    "           }\n",
    "param = {'max_depth':int(best_xgb['max_depth']),\n",
    "         'scale_pos_weight':best_xgb['scale_pos_weight'],\n",
    "         'min_child_weight':best_xgb['min_child_weight'],\n",
    "         'n_estimators':int(best_xgb['n_estimators']),\n",
    "         'learning_rate':best_xgb['learning_rate'],\n",
    "         'subsample':best_xgb['subsample'],\n",
    "         'colsample_bytree':best_xgb['colsample_bytree'],\n",
    "         'reg_lambda':best_xgb['reg_lambda'],\n",
    "         'reg_alpha':best_xgb['reg_alpha'],\n",
    "         'booster':'dart',\n",
    "         'rate_drop':best_xgb['rate_drop']\n",
    "        }\n",
    "\n",
    "model = xgb.train(param,dtrain,num_boost_round=int(best_xgb['n_estimators']))\n",
    "labels = dtest.get_label()\n",
    "pred_test = model.predict(dtest,ntree_limit=int(best_xgb['n_estimators']))"
   ]
  },
  {
   "cell_type": "markdown",
   "metadata": {},
   "source": [
    "# Model performace"
   ]
  },
  {
   "cell_type": "code",
   "execution_count": 36,
   "metadata": {
    "scrolled": true
   },
   "outputs": [
    {
     "name": "stdout",
     "output_type": "stream",
     "text": [
      "xgboost model performance: \n",
      "TP = 952, TN = 117484, FP = 6602, FN = 1214 \n",
      "Accuracy = 93.81, Precision = 12.60, Recall = 43.95 \n",
      "\n",
      "All negative model performance: \n",
      "TP = 0, TN = 124086, FP = 0, FN = 2166 \n",
      "Accuracy = 98.28, Precision = 0.00 Recall = 0.00 \n",
      "\n",
      "Random performance: \n",
      "TP = 36, TN = 122037, FP = 2409, FN = 2130 \n",
      "Accuracy = 96.69, Precision = 1.73, Recall = 1.66 \n"
     ]
    }
   ],
   "source": [
    "def print_model_eval(args):\n",
    "    TN,FP,FN,TP = args\n",
    "    print('TP = {:d}, TN = {:d}, FP = {:d}, FN = {:d}'.\n",
    "          format(TP,TN,FP,FN))\n",
    "    print('Accuracy = {:4.2f}, Precision = {:4.2f}, Recall = {:4.2f} \\n'.\n",
    "          format((TP+TN)*100/(TP+TN+FP+FN),TP*100/(TP+FP+1e-10),TP*100/(TP+FN+1e-10)))    \n",
    "\n",
    "threshold = 0.5\n",
    "preds = [1  if x>=threshold  else 0 for x in pred_test]\n",
    "\n",
    "\n",
    "print('xgboost model performance:')\n",
    "print_model_eval(confusion_matrix(labels,preds).ravel())\n",
    "\n",
    "\n",
    "print('All negative model performance:')\n",
    "print_model_eval([int(len(labels)-np.sum(labels)),0,int(np.sum(labels)),0])\n",
    "\n",
    "print('Random model performance:')\n",
    "random_preds = np.random.choice([1,0],\n",
    "                                len(labels),\n",
    "                                p=[np.sum(labels)/len(labels),1-np.sum(labels)/len(labels)]\n",
    "                               )\n",
    "\n",
    "        \n",
    "print_model_eval(confusion_matrix(labels,random_preds).ravel())\n"
   ]
  },
  {
   "cell_type": "code",
   "execution_count": 37,
   "metadata": {},
   "outputs": [
    {
     "name": "stdout",
     "output_type": "stream",
     "text": [
      "roc_auc = 0.87 \n"
     ]
    }
   ],
   "source": [
    "fpr = dict()\n",
    "tpr = dict()\n",
    "roc_auc = dict()\n",
    "\n",
    " \n",
    "fpr, tpr, _ = roc_curve(labels, pred_test)\n",
    "roc_auc = auc(fpr, tpr)\n",
    "print('roc_auc = {:.2f}'.format(roc_auc))\n",
    "\n",
    "plt.figure()\n",
    "plt.plot(fpr, tpr, label='ROC curve (area = %0.2f)' % roc_auc)\n",
    "plt.plot([0, 1], [0, 1], 'k--')\n",
    "plt.xlim([0.0, 1.0])\n",
    "plt.ylim([0.0, 1.05])\n",
    "plt.xlabel('False Positive Rate')\n",
    "plt.ylabel('True Positive Rate')\n",
    "plt.title('Receiver operating characteristic example')\n",
    "plt.legend(loc=\"lower right\")\n",
    "plt.show()"
   ]
  },
  {
   "cell_type": "markdown",
   "metadata": {},
   "source": [
    "# Feature Importance"
   ]
  },
  {
   "cell_type": "code",
   "execution_count": 38,
   "metadata": {},
   "outputs": [],
   "source": [
    "x = []\n",
    "for c in model.get_fscore().keys():\n",
    "    x[c] = model.get_fscore()[c]\n",
    "    \n",
    "dp = pd.DataFrame(x).transpose().reset_index().sort_values(0,ascending=False)\n",
    "dp.columns = ['idx','name']\n",
    "dp['idx'] = dp['idx'].apply(lambda x:x[1:]).astype('int')\n",
    "\n",
    "feature_meta=pd.DataFrame(df_a.schema[\"features\"].metadata[\"ml_attr\"][\"attrs\"][\"binary\"]+df_a.schema[\"features\"].metadata[\"ml_attr\"][\"attrs\"][\"numeric\"])\n",
    "\n",
    "dp = pd.merge(dp,feature_meta,on='idx',how='left')\n"
   ]
  }
 ],
 "metadata": {
  "kernelspec": {
   "display_name": "Python 3",
   "language": "python",
   "name": "python3"
  },
  "language_info": {
   "codemirror_mode": {
    "name": "ipython",
    "version": 3
   },
   "file_extension": ".py",
   "mimetype": "text/x-python",
   "name": "python",
   "nbconvert_exporter": "python",
   "pygments_lexer": "ipython3",
   "version": "3.6.4"
  },
  "toc": {
   "base_numbering": 1,
   "nav_menu": {},
   "number_sections": true,
   "sideBar": true,
   "skip_h1_title": false,
   "title_cell": "Table of Contents",
   "title_sidebar": "Contents",
   "toc_cell": false,
   "toc_position": {},
   "toc_section_display": true,
   "toc_window_display": true
  }
 },
 "nbformat": 4,
 "nbformat_minor": 2
}
